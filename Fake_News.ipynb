{
 "cells": [
  {
   "cell_type": "markdown",
   "id": "241ab9b0-8a49-408e-83b2-4a746c61f7a5",
   "metadata": {},
   "source": [
    "Natural language:\n",
    "Project:15\n",
    "Student Name:\n",
    "Kushal Panthi,\n",
    "Aavash Neupane,\n",
    "Siddharth Pudasini,\n",
    "Suraj"
   ]
  },
  {
   "cell_type": "markdown",
   "id": "977dd4fd-7d83-4ce8-b116-cdf912ac6df3",
   "metadata": {},
   "source": [
    "Imoporting Libraries"
   ]
  },
  {
   "cell_type": "code",
   "execution_count": 11,
   "id": "50618e81-1b9a-4d65-8743-200a3779a035",
   "metadata": {},
   "outputs": [],
   "source": [
    "import numpy as np #Numerical operations, arrays, and matrices\n",
    "import pandas as pd #Data manipulation"
   ]
  },
  {
   "cell_type": "markdown",
   "id": "d3bf5b03-9494-497d-aa18-7d28acca198c",
   "metadata": {},
   "source": [
    "Creating/Loading datasets"
   ]
  },
  {
   "cell_type": "code",
   "execution_count": 26,
   "id": "57de3133-bf1e-4bb8-904d-70086a39f895",
   "metadata": {},
   "outputs": [
    {
     "name": "stdout",
     "output_type": "stream",
     "text": [
      "Real news  (91, 12)\n",
      "Fake news (91, 12)\n"
     ]
    }
   ],
   "source": [
    "data_real = pd.read_csv('datasets/orginal/BuzzFeed_real_news_content.csv') #for the real data sets\n",
    "print (\"Real news \", data_real.shape)\n",
    "data_fake = pd.read_csv('datasets/orginal/BuzzFeed_fake_news_content.csv') #for the real data sets\n",
    "print (\"Fake news\", data_fake.shape)"
   ]
  },
  {
   "cell_type": "markdown",
   "id": "b79de15f-0e42-48b8-923a-51aa78675b91",
   "metadata": {},
   "source": [
    "Combining both the data sets"
   ]
  },
  {
   "cell_type": "code",
   "execution_count": 37,
   "id": "260135cc-f7ec-4d31-9dcc-d487f84fd9ea",
   "metadata": {},
   "outputs": [
    {
     "name": "stdout",
     "output_type": "stream",
     "text": [
      "Combined:  (182, 12)\n"
     ]
    }
   ],
   "source": [
    "data_news = pd.concat([data_real, data_fake], axis =0) #concatinating the data sets\n",
    "print(\"Combined: \", data_news.shape)\n",
    "\n"
   ]
  },
  {
   "cell_type": "code",
   "execution_count": 43,
   "id": "0375247c-1bc5-4d83-b1af-962435a235fd",
   "metadata": {},
   "outputs": [],
   "source": [
    "import os\n",
    "os.makedirs('datasets/changed', exist_ok=True)\n",
    "data_news.to_csv('datasets/changed/data_news.csv', index=False)"
   ]
  },
  {
   "cell_type": "code",
   "execution_count": null,
   "id": "4b5b32f4-5be9-4300-bd34-76ea75650ac3",
   "metadata": {},
   "outputs": [],
   "source": []
  }
 ],
 "metadata": {
  "kernelspec": {
   "display_name": "Python [conda env:base] *",
   "language": "python",
   "name": "conda-base-py"
  },
  "language_info": {
   "codemirror_mode": {
    "name": "ipython",
    "version": 3
   },
   "file_extension": ".py",
   "mimetype": "text/x-python",
   "name": "python",
   "nbconvert_exporter": "python",
   "pygments_lexer": "ipython3",
   "version": "3.12.7"
  }
 },
 "nbformat": 4,
 "nbformat_minor": 5
}
