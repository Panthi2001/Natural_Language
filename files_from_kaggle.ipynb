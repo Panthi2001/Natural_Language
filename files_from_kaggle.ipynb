{
 "cells": [
  {
   "cell_type": "markdown",
   "id": "0fd4e529-70fc-4048-8d4a-4a4a0e11313d",
   "metadata": {},
   "source": [
    "Installing Kaggel and for data sets download"
   ]
  },
  {
   "cell_type": "code",
   "execution_count": null,
   "id": "08fab504-245b-45f5-b7ba-c8357dd2ba02",
   "metadata": {},
   "outputs": [],
   "source": [
    "!pip install kaggle\n"
   ]
  },
  {
   "cell_type": "markdown",
   "id": "7d46db40-6846-4fd3-a491-f8c8ef8b86c8",
   "metadata": {},
   "source": [
    "Setting up the kaggle.json file for downloading the data sets"
   ]
  },
  {
   "cell_type": "code",
   "execution_count": 20,
   "id": "19f5fe29-f80e-47e5-9ec3-2744f2394f40",
   "metadata": {},
   "outputs": [
    {
     "name": "stdout",
     "output_type": "stream",
     "text": [
      "Kaggle setup completed successfully!\n"
     ]
    }
   ],
   "source": [
    "import shutil \n",
    "import os\n",
    "\n",
    "#first to do this you have to setup the api key for yourself from the kaggle website.\n",
    "\n",
    "\n",
    "# Source path for kaggle.json location of where the kaggle.json file is located\n",
    "\n",
    "source = \"/Users/kushalpanthi/Desktop/0NatLang/Natural_Language/kaggle.json\"\n",
    "\n",
    "# Target directory for Kaggle config (macOS recommended location)\n",
    "kaggle_dir = os.path.expanduser(\"~/.kaggle\")\n",
    "os.makedirs(kaggle_dir, exist_ok=True)\n",
    "\n",
    "# Copy kaggle.json to the correct location\n",
    "shutil.copy(source, os.path.join(kaggle_dir, \"kaggle.json\"))\n",
    "\n",
    "# Set permissions (read/write for user only)\n",
    "os.chmod(os.path.join(kaggle_dir, \"kaggle.json\"), 0o600)\n",
    "\n",
    "print(\"Kaggle setup completed successfully!\")\n",
    "\n",
    "\n"
   ]
  },
  {
   "cell_type": "markdown",
   "id": "c37ac9c8-88bd-4724-8037-9131138038fe",
   "metadata": {},
   "source": [
    "Download the datasets"
   ]
  },
  {
   "cell_type": "code",
   "execution_count": 27,
   "id": "b4961fa0-830c-48ec-8b61-0625fa42dccf",
   "metadata": {},
   "outputs": [
    {
     "name": "stdout",
     "output_type": "stream",
     "text": [
      "Dataset URL: https://www.kaggle.com/datasets/mdepak/fakenewsnet\n",
      "License(s): CC-BY-NC-SA-4.0\n"
     ]
    }
   ],
   "source": [
    "#we will use the target folder to download the datasets\n",
    "target_folder = os.path.expanduser(\"/Users/kushalpanthi/Desktop/0NatLang/Natural_Language/datasets/orginal\")\n",
    "os.makedirs(target_folder, exist_ok=True)\n",
    "\n",
    "#Downloading the datasets and extracting it\n",
    "!kaggle datasets download -d mdepak/fakenewsnet -p \"{target_folder}\" --unzip\n"
   ]
  },
  {
   "cell_type": "markdown",
   "id": "601565aa-96a8-4659-a12b-9abde3a596a8",
   "metadata": {},
   "source": [
    "Orginal datasets and all other files are in the ../datasets/orginal"
   ]
  }
 ],
 "metadata": {
  "kernelspec": {
   "display_name": "Python [conda env:base] *",
   "language": "python",
   "name": "conda-base-py"
  },
  "language_info": {
   "codemirror_mode": {
    "name": "ipython",
    "version": 3
   },
   "file_extension": ".py",
   "mimetype": "text/x-python",
   "name": "python",
   "nbconvert_exporter": "python",
   "pygments_lexer": "ipython3",
   "version": "3.12.7"
  }
 },
 "nbformat": 4,
 "nbformat_minor": 5
}
