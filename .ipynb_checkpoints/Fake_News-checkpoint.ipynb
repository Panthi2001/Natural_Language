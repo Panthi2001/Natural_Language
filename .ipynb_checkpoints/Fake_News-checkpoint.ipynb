{
 "cells": [
  {
   "cell_type": "markdown",
   "id": "241ab9b0-8a49-408e-83b2-4a746c61f7a5",
   "metadata": {},
   "source": [
    "Natural language:\n",
    "Project:15\n",
    "Student Name:\n",
    "Kushal Panthi,\n",
    "Aavash Neupane,\n",
    "Siddharth Pudasini,\n",
    "Suraj"
   ]
  },
  {
   "cell_type": "markdown",
   "id": "977dd4fd-7d83-4ce8-b116-cdf912ac6df3",
   "metadata": {},
   "source": [
    "Imoporting Libraries"
   ]
  },
  {
   "cell_type": "code",
   "execution_count": 4,
   "id": "50618e81-1b9a-4d65-8743-200a3779a035",
   "metadata": {},
   "outputs": [],
   "source": [
    "import numpy as np #Numerical operations, arrays, and matrices\n",
    "import pandas as pd #Data manipulation"
   ]
  },
  {
   "cell_type": "code",
   "execution_count": null,
   "id": "2976f152-eaba-4b31-a8ea-40cd216233d3",
   "metadata": {},
   "outputs": [],
   "source": []
  }
 ],
 "metadata": {
  "kernelspec": {
   "display_name": "Python [conda env:base] *",
   "language": "python",
   "name": "conda-base-py"
  },
  "language_info": {
   "codemirror_mode": {
    "name": "ipython",
    "version": 3
   },
   "file_extension": ".py",
   "mimetype": "text/x-python",
   "name": "python",
   "nbconvert_exporter": "python",
   "pygments_lexer": "ipython3",
   "version": "3.12.7"
  }
 },
 "nbformat": 4,
 "nbformat_minor": 5
}
