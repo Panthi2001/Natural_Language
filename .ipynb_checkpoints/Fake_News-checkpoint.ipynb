{
 "cells": [
  {
   "cell_type": "markdown",
   "id": "241ab9b0-8a49-408e-83b2-4a746c61f7a5",
   "metadata": {},
   "source": [
    "Natural language:\n",
    "Project:15\n",
    "Student Name:\n",
    "Kushal Panthi,\n",
    "Aavash Neupane,\n",
    "Siddharth Pudasini,\n",
    "Suraj"
   ]
  },
  {
   "cell_type": "markdown",
   "id": "977dd4fd-7d83-4ce8-b116-cdf912ac6df3",
   "metadata": {},
   "source": [
    "Imoporting Libraries"
   ]
  },
  {
   "cell_type": "code",
   "execution_count": 270,
   "id": "50618e81-1b9a-4d65-8743-200a3779a035",
   "metadata": {},
   "outputs": [],
   "source": [
    "import numpy as np #Numerical operations, arrays, and matrices\n",
    "import pandas as pd #Data manipulation"
   ]
  },
  {
   "cell_type": "markdown",
   "id": "d3bf5b03-9494-497d-aa18-7d28acca198c",
   "metadata": {},
   "source": [
    "Creating/Loading datasets"
   ]
  },
  {
   "cell_type": "code",
   "execution_count": 273,
   "id": "57de3133-bf1e-4bb8-904d-70086a39f895",
   "metadata": {},
   "outputs": [
    {
     "name": "stdout",
     "output_type": "stream",
     "text": [
      "Real news  (91, 12)\n",
      "Fake news (91, 12)\n"
     ]
    }
   ],
   "source": [
    "data_real = pd.read_csv('datasets/orginal/BuzzFeed_real_news_content.csv') #for the real data sets\n",
    "print (\"Real news \", data_real.shape)\n",
    "data_fake = pd.read_csv('datasets/orginal/BuzzFeed_fake_news_content.csv') #for the real data sets\n",
    "print (\"Fake news\", data_fake.shape)"
   ]
  },
  {
   "cell_type": "markdown",
   "id": "b79de15f-0e42-48b8-923a-51aa78675b91",
   "metadata": {},
   "source": [
    "Combining both the data sets"
   ]
  },
  {
   "cell_type": "code",
   "execution_count": 276,
   "id": "260135cc-f7ec-4d31-9dcc-d487f84fd9ea",
   "metadata": {},
   "outputs": [
    {
     "name": "stdout",
     "output_type": "stream",
     "text": [
      "Combined:  (182, 12)\n"
     ]
    }
   ],
   "source": [
    "data_news = pd.concat([data_real, data_fake], axis =0) #concatinating the data sets\n",
    "print(\"Combined: \", data_news.shape)\n",
    "\n"
   ]
  },
  {
   "cell_type": "code",
   "execution_count": 278,
   "id": "0375247c-1bc5-4d83-b1af-962435a235fd",
   "metadata": {},
   "outputs": [],
   "source": [
    "import os\n",
    "os.makedirs('datasets/changed', exist_ok=True)\n",
    "data_news.to_csv('datasets/changed/data_news.csv', index=False)"
   ]
  },
  {
   "cell_type": "markdown",
   "id": "1b742553-9030-4585-9d1c-75c106cc1324",
   "metadata": {},
   "source": [
    "Extract news type from 'id' column and store in 'type_of_news'.\n",
    "\n",
    "Drop the 'id' column.\n",
    "\n",
    "Move 'type_of_news' to the first column."
   ]
  },
  {
   "cell_type": "code",
   "execution_count": 281,
   "id": "70159c97-1932-4c0a-9c72-7317a24034d9",
   "metadata": {
    "scrolled": true
   },
   "outputs": [
    {
     "name": "stdout",
     "output_type": "stream",
     "text": [
      "Index(['type_of_news', 'title', 'text', 'url', 'top_img', 'authors', 'source',\n",
      "       'publish_date', 'movies', 'images', 'canonical_link', 'meta_data'],\n",
      "      dtype='object')\n"
     ]
    }
   ],
   "source": [
    "def extract_type_of_news(news_id):\n",
    "    # Extracts the type of news from the given ID string\n",
    "    if isinstance(news_id, str) and '_' in news_id:\n",
    "        return news_id.split('_')[0]\n",
    "    return news_id  # Return as is if not a valid format\n",
    "\n",
    "# Apply the function to create the 'type_of_news' column\n",
    "data_news['type_of_news'] = data_news['id'].apply(extract_type_of_news)\n",
    "\n",
    "# Drop the 'id' column\n",
    "data_news.drop(columns=['id'], inplace=True)\n",
    "\n",
    "# Move 'type_of_news' to the first column\n",
    "cols = ['type_of_news'] + [col for col in data_news.columns if col != 'type_of_news']\n",
    "data_news = data_news[cols]\n",
    "\n",
    "print(data_news.columns)"
   ]
  },
  {
   "cell_type": "code",
   "execution_count": 283,
   "id": "d0fc5442-b972-4e69-a01a-657c3fbaf798",
   "metadata": {
    "scrolled": true
   },
   "outputs": [
    {
     "data": {
      "text/html": [
       "<div>\n",
       "<style scoped>\n",
       "    .dataframe tbody tr th:only-of-type {\n",
       "        vertical-align: middle;\n",
       "    }\n",
       "\n",
       "    .dataframe tbody tr th {\n",
       "        vertical-align: top;\n",
       "    }\n",
       "\n",
       "    .dataframe thead th {\n",
       "        text-align: right;\n",
       "    }\n",
       "</style>\n",
       "<table border=\"1\" class=\"dataframe\">\n",
       "  <thead>\n",
       "    <tr style=\"text-align: right;\">\n",
       "      <th></th>\n",
       "      <th>type_of_news</th>\n",
       "      <th>title</th>\n",
       "      <th>text</th>\n",
       "      <th>url</th>\n",
       "      <th>top_img</th>\n",
       "      <th>authors</th>\n",
       "      <th>source</th>\n",
       "      <th>publish_date</th>\n",
       "      <th>movies</th>\n",
       "      <th>images</th>\n",
       "      <th>canonical_link</th>\n",
       "      <th>meta_data</th>\n",
       "    </tr>\n",
       "  </thead>\n",
       "  <tbody>\n",
       "    <tr>\n",
       "      <th>0</th>\n",
       "      <td>Real</td>\n",
       "      <td>Another Terrorist Attack in NYC…Why Are we STI...</td>\n",
       "      <td>On Saturday, September 17 at 8:30 pm EST, an e...</td>\n",
       "      <td>http://eaglerising.com/36942/another-terrorist...</td>\n",
       "      <td>http://eaglerising.com/wp-content/uploads/2016...</td>\n",
       "      <td>View All Posts,Leonora Cravotta</td>\n",
       "      <td>http://eaglerising.com</td>\n",
       "      <td>{'$date': 1474528230000}</td>\n",
       "      <td>NaN</td>\n",
       "      <td>http://constitution.com/wp-content/uploads/201...</td>\n",
       "      <td>http://eaglerising.com/36942/another-terrorist...</td>\n",
       "      <td>{\"description\": \"\\u201cWe believe at this poin...</td>\n",
       "    </tr>\n",
       "    <tr>\n",
       "      <th>1</th>\n",
       "      <td>Real</td>\n",
       "      <td>Donald Trump: Drugs a 'Very, Very Big Factor' ...</td>\n",
       "      <td>Less than a day after protests over the police...</td>\n",
       "      <td>http://abcn.ws/2d4lNn9</td>\n",
       "      <td>http://a.abcnews.com/images/Politics/AP_donald...</td>\n",
       "      <td>More Candace,Adam Kelsey,Abc News,More Adam</td>\n",
       "      <td>http://abcn.ws</td>\n",
       "      <td>NaN</td>\n",
       "      <td>NaN</td>\n",
       "      <td>http://www.googleadservices.com/pagead/convers...</td>\n",
       "      <td>http://abcnews.go.com/Politics/donald-trump-dr...</td>\n",
       "      <td>{\"fb_title\": \"Trump: Drugs a 'Very, Very Big F...</td>\n",
       "    </tr>\n",
       "  </tbody>\n",
       "</table>\n",
       "</div>"
      ],
      "text/plain": [
       "  type_of_news                                              title  \\\n",
       "0         Real  Another Terrorist Attack in NYC…Why Are we STI...   \n",
       "1         Real  Donald Trump: Drugs a 'Very, Very Big Factor' ...   \n",
       "\n",
       "                                                text  \\\n",
       "0  On Saturday, September 17 at 8:30 pm EST, an e...   \n",
       "1  Less than a day after protests over the police...   \n",
       "\n",
       "                                                 url  \\\n",
       "0  http://eaglerising.com/36942/another-terrorist...   \n",
       "1                             http://abcn.ws/2d4lNn9   \n",
       "\n",
       "                                             top_img  \\\n",
       "0  http://eaglerising.com/wp-content/uploads/2016...   \n",
       "1  http://a.abcnews.com/images/Politics/AP_donald...   \n",
       "\n",
       "                                       authors                  source  \\\n",
       "0              View All Posts,Leonora Cravotta  http://eaglerising.com   \n",
       "1  More Candace,Adam Kelsey,Abc News,More Adam          http://abcn.ws   \n",
       "\n",
       "               publish_date movies  \\\n",
       "0  {'$date': 1474528230000}    NaN   \n",
       "1                       NaN    NaN   \n",
       "\n",
       "                                              images  \\\n",
       "0  http://constitution.com/wp-content/uploads/201...   \n",
       "1  http://www.googleadservices.com/pagead/convers...   \n",
       "\n",
       "                                      canonical_link  \\\n",
       "0  http://eaglerising.com/36942/another-terrorist...   \n",
       "1  http://abcnews.go.com/Politics/donald-trump-dr...   \n",
       "\n",
       "                                           meta_data  \n",
       "0  {\"description\": \"\\u201cWe believe at this poin...  \n",
       "1  {\"fb_title\": \"Trump: Drugs a 'Very, Very Big F...  "
      ]
     },
     "execution_count": 283,
     "metadata": {},
     "output_type": "execute_result"
    }
   ],
   "source": [
    "data_news.head(2)"
   ]
  },
  {
   "cell_type": "code",
   "execution_count": 285,
   "id": "3b8cdf6c-7e66-4f37-86ec-7d01a5b07e22",
   "metadata": {},
   "outputs": [
    {
     "name": "stdout",
     "output_type": "stream",
     "text": [
      "After adding type_of_news and substituting it with id column: (182, 12)\n"
     ]
    }
   ],
   "source": [
    "print(\"After adding type_of_news and substituting it with id column:\", data_news.shape)"
   ]
  },
  {
   "cell_type": "code",
   "execution_count": 287,
   "id": "6863d013-83b2-4b18-a550-e9fadc99f7f3",
   "metadata": {},
   "outputs": [
    {
     "name": "stdout",
     "output_type": "stream",
     "text": [
      "<class 'pandas.core.frame.DataFrame'>\n",
      "Index: 182 entries, 0 to 90\n",
      "Data columns (total 12 columns):\n",
      " #   Column          Non-Null Count  Dtype \n",
      "---  ------          --------------  ----- \n",
      " 0   type_of_news    182 non-null    object\n",
      " 1   title           182 non-null    object\n",
      " 2   text            182 non-null    object\n",
      " 3   url             174 non-null    object\n",
      " 4   top_img         172 non-null    object\n",
      " 5   authors         141 non-null    object\n",
      " 6   source          174 non-null    object\n",
      " 7   publish_date    133 non-null    object\n",
      " 8   movies          25 non-null     object\n",
      " 9   images          172 non-null    object\n",
      " 10  canonical_link  170 non-null    object\n",
      " 11  meta_data       182 non-null    object\n",
      "dtypes: object(12)\n",
      "memory usage: 18.5+ KB\n"
     ]
    }
   ],
   "source": [
    "# Summary of dataframe structure and data types\n",
    "data_news.info()"
   ]
  },
  {
   "cell_type": "code",
   "execution_count": 289,
   "id": "66952c39-c817-4274-82cd-472899d48b8e",
   "metadata": {},
   "outputs": [
    {
     "data": {
      "text/html": [
       "<div>\n",
       "<style scoped>\n",
       "    .dataframe tbody tr th:only-of-type {\n",
       "        vertical-align: middle;\n",
       "    }\n",
       "\n",
       "    .dataframe tbody tr th {\n",
       "        vertical-align: top;\n",
       "    }\n",
       "\n",
       "    .dataframe thead th {\n",
       "        text-align: right;\n",
       "    }\n",
       "</style>\n",
       "<table border=\"1\" class=\"dataframe\">\n",
       "  <thead>\n",
       "    <tr style=\"text-align: right;\">\n",
       "      <th></th>\n",
       "      <th>type_of_news</th>\n",
       "      <th>title</th>\n",
       "      <th>text</th>\n",
       "      <th>url</th>\n",
       "      <th>top_img</th>\n",
       "      <th>authors</th>\n",
       "      <th>source</th>\n",
       "      <th>publish_date</th>\n",
       "      <th>movies</th>\n",
       "      <th>images</th>\n",
       "      <th>canonical_link</th>\n",
       "      <th>meta_data</th>\n",
       "    </tr>\n",
       "  </thead>\n",
       "  <tbody>\n",
       "    <tr>\n",
       "      <th>count</th>\n",
       "      <td>182</td>\n",
       "      <td>182</td>\n",
       "      <td>182</td>\n",
       "      <td>174</td>\n",
       "      <td>172</td>\n",
       "      <td>141</td>\n",
       "      <td>174</td>\n",
       "      <td>133</td>\n",
       "      <td>25</td>\n",
       "      <td>172</td>\n",
       "      <td>170</td>\n",
       "      <td>182</td>\n",
       "    </tr>\n",
       "    <tr>\n",
       "      <th>unique</th>\n",
       "      <td>2</td>\n",
       "      <td>178</td>\n",
       "      <td>178</td>\n",
       "      <td>171</td>\n",
       "      <td>166</td>\n",
       "      <td>90</td>\n",
       "      <td>28</td>\n",
       "      <td>118</td>\n",
       "      <td>25</td>\n",
       "      <td>169</td>\n",
       "      <td>168</td>\n",
       "      <td>171</td>\n",
       "    </tr>\n",
       "    <tr>\n",
       "      <th>top</th>\n",
       "      <td>Real</td>\n",
       "      <td>CNN’s Post-Debate Rigged Poll Busted…Here Are ...</td>\n",
       "      <td>We’re shocked — SHOCKED — to learn that CNN’s ...</td>\n",
       "      <td>http://eaglerising.com/36847/clinton-foundatio...</td>\n",
       "      <td>http://static.politico.com/da/f5/44342c424c68b...</td>\n",
       "      <td>Terresa Monroe-hamilton</td>\n",
       "      <td>http://politi.co</td>\n",
       "      <td>{'$date': 1474588800000}</td>\n",
       "      <td>https://www.youtube.com/embed/ji6pl5Vwrvk</td>\n",
       "      <td>http://static.politico.com/da/f5/44342c424c68b...</td>\n",
       "      <td>http://eaglerising.com/36847/clinton-foundatio...</td>\n",
       "      <td>{}</td>\n",
       "    </tr>\n",
       "    <tr>\n",
       "      <th>freq</th>\n",
       "      <td>91</td>\n",
       "      <td>2</td>\n",
       "      <td>2</td>\n",
       "      <td>2</td>\n",
       "      <td>3</td>\n",
       "      <td>8</td>\n",
       "      <td>32</td>\n",
       "      <td>5</td>\n",
       "      <td>1</td>\n",
       "      <td>2</td>\n",
       "      <td>2</td>\n",
       "      <td>8</td>\n",
       "    </tr>\n",
       "  </tbody>\n",
       "</table>\n",
       "</div>"
      ],
      "text/plain": [
       "       type_of_news                                              title  \\\n",
       "count           182                                                182   \n",
       "unique            2                                                178   \n",
       "top            Real  CNN’s Post-Debate Rigged Poll Busted…Here Are ...   \n",
       "freq             91                                                  2   \n",
       "\n",
       "                                                     text  \\\n",
       "count                                                 182   \n",
       "unique                                                178   \n",
       "top     We’re shocked — SHOCKED — to learn that CNN’s ...   \n",
       "freq                                                    2   \n",
       "\n",
       "                                                      url  \\\n",
       "count                                                 174   \n",
       "unique                                                171   \n",
       "top     http://eaglerising.com/36847/clinton-foundatio...   \n",
       "freq                                                    2   \n",
       "\n",
       "                                                  top_img  \\\n",
       "count                                                 172   \n",
       "unique                                                166   \n",
       "top     http://static.politico.com/da/f5/44342c424c68b...   \n",
       "freq                                                    3   \n",
       "\n",
       "                        authors            source              publish_date  \\\n",
       "count                       141               174                       133   \n",
       "unique                       90                28                       118   \n",
       "top     Terresa Monroe-hamilton  http://politi.co  {'$date': 1474588800000}   \n",
       "freq                          8                32                         5   \n",
       "\n",
       "                                           movies  \\\n",
       "count                                          25   \n",
       "unique                                         25   \n",
       "top     https://www.youtube.com/embed/ji6pl5Vwrvk   \n",
       "freq                                            1   \n",
       "\n",
       "                                                   images  \\\n",
       "count                                                 172   \n",
       "unique                                                169   \n",
       "top     http://static.politico.com/da/f5/44342c424c68b...   \n",
       "freq                                                    2   \n",
       "\n",
       "                                           canonical_link meta_data  \n",
       "count                                                 170       182  \n",
       "unique                                                168       171  \n",
       "top     http://eaglerising.com/36847/clinton-foundatio...        {}  \n",
       "freq                                                    2         8  "
      ]
     },
     "execution_count": 289,
     "metadata": {},
     "output_type": "execute_result"
    }
   ],
   "source": [
    "# descriptive statistics for numerical columns\n",
    "data_news.describe()"
   ]
  },
  {
   "cell_type": "markdown",
   "id": "cc95f418-1dd9-4281-bb13-de9a44ecd4c8",
   "metadata": {},
   "source": [
    "Data Cleaning and Freature Engineering\n",
    "\n",
    "We retain relevant columns and remove unnecessary columns."
   ]
  },
  {
   "cell_type": "code",
   "execution_count": 292,
   "id": "c7cc2f2b-f479-47d3-b47f-501fcd1c5965",
   "metadata": {},
   "outputs": [],
   "source": [
    "data_news.drop(['url', 'top_img', 'authors', 'publish_date', 'movies', 'images', 'canonical_link', 'meta_data'], axis=1, inplace=True)"
   ]
  },
  {
   "cell_type": "code",
   "execution_count": 294,
   "id": "7928c141-0d59-4d3c-9ec3-b4521593248e",
   "metadata": {},
   "outputs": [
    {
     "name": "stdout",
     "output_type": "stream",
     "text": [
      "After dropping unnecessary columns:\n",
      " \n"
     ]
    },
    {
     "data": {
      "text/html": [
       "<div>\n",
       "<style scoped>\n",
       "    .dataframe tbody tr th:only-of-type {\n",
       "        vertical-align: middle;\n",
       "    }\n",
       "\n",
       "    .dataframe tbody tr th {\n",
       "        vertical-align: top;\n",
       "    }\n",
       "\n",
       "    .dataframe thead th {\n",
       "        text-align: right;\n",
       "    }\n",
       "</style>\n",
       "<table border=\"1\" class=\"dataframe\">\n",
       "  <thead>\n",
       "    <tr style=\"text-align: right;\">\n",
       "      <th></th>\n",
       "      <th>type_of_news</th>\n",
       "      <th>title</th>\n",
       "      <th>text</th>\n",
       "      <th>source</th>\n",
       "    </tr>\n",
       "  </thead>\n",
       "  <tbody>\n",
       "    <tr>\n",
       "      <th>count</th>\n",
       "      <td>182</td>\n",
       "      <td>182</td>\n",
       "      <td>182</td>\n",
       "      <td>174</td>\n",
       "    </tr>\n",
       "    <tr>\n",
       "      <th>unique</th>\n",
       "      <td>2</td>\n",
       "      <td>178</td>\n",
       "      <td>178</td>\n",
       "      <td>28</td>\n",
       "    </tr>\n",
       "    <tr>\n",
       "      <th>top</th>\n",
       "      <td>Real</td>\n",
       "      <td>CNN’s Post-Debate Rigged Poll Busted…Here Are ...</td>\n",
       "      <td>We’re shocked — SHOCKED — to learn that CNN’s ...</td>\n",
       "      <td>http://politi.co</td>\n",
       "    </tr>\n",
       "    <tr>\n",
       "      <th>freq</th>\n",
       "      <td>91</td>\n",
       "      <td>2</td>\n",
       "      <td>2</td>\n",
       "      <td>32</td>\n",
       "    </tr>\n",
       "  </tbody>\n",
       "</table>\n",
       "</div>"
      ],
      "text/plain": [
       "       type_of_news                                              title  \\\n",
       "count           182                                                182   \n",
       "unique            2                                                178   \n",
       "top            Real  CNN’s Post-Debate Rigged Poll Busted…Here Are ...   \n",
       "freq             91                                                  2   \n",
       "\n",
       "                                                     text            source  \n",
       "count                                                 182               174  \n",
       "unique                                                178                28  \n",
       "top     We’re shocked — SHOCKED — to learn that CNN’s ...  http://politi.co  \n",
       "freq                                                    2                32  "
      ]
     },
     "execution_count": 294,
     "metadata": {},
     "output_type": "execute_result"
    }
   ],
   "source": [
    "print(\"After dropping unnecessary columns:\\n \")\n",
    "data_news.describe()"
   ]
  },
  {
   "cell_type": "code",
   "execution_count": 304,
   "id": "9e1a2e17-3784-4eb7-ad9d-031105288a54",
   "metadata": {},
   "outputs": [
    {
     "data": {
      "text/plain": [
       "type_of_news    0\n",
       "title           0\n",
       "text            0\n",
       "source          8\n",
       "dtype: int64"
      ]
     },
     "execution_count": 304,
     "metadata": {},
     "output_type": "execute_result"
    }
   ],
   "source": [
    "# Displaying count of missing values for each column\n",
    "data_news.isnull().sum()"
   ]
  },
  {
   "cell_type": "code",
   "execution_count": 306,
   "id": "b1760374-453c-4ec9-a207-c2197921f051",
   "metadata": {},
   "outputs": [
    {
     "data": {
      "text/plain": [
       "type_of_news    0.000000\n",
       "title           0.000000\n",
       "text            0.000000\n",
       "source          4.395604\n",
       "dtype: float64"
      ]
     },
     "execution_count": 306,
     "metadata": {},
     "output_type": "execute_result"
    }
   ],
   "source": [
    "# Calculate percentage of missing values for each column in the data\n",
    "(data_news.isnull().sum() / data_news.shape[0]) * 100"
   ]
  },
  {
   "cell_type": "code",
   "execution_count": 308,
   "id": "44188c63-694b-4a64-b5df-3d57af954cb1",
   "metadata": {},
   "outputs": [
    {
     "data": {
      "text/html": [
       "<div>\n",
       "<style scoped>\n",
       "    .dataframe tbody tr th:only-of-type {\n",
       "        vertical-align: middle;\n",
       "    }\n",
       "\n",
       "    .dataframe tbody tr th {\n",
       "        vertical-align: top;\n",
       "    }\n",
       "\n",
       "    .dataframe thead th {\n",
       "        text-align: right;\n",
       "    }\n",
       "</style>\n",
       "<table border=\"1\" class=\"dataframe\">\n",
       "  <thead>\n",
       "    <tr style=\"text-align: right;\">\n",
       "      <th></th>\n",
       "      <th>type_of_news</th>\n",
       "      <th>title</th>\n",
       "      <th>text</th>\n",
       "      <th>source</th>\n",
       "    </tr>\n",
       "  </thead>\n",
       "  <tbody>\n",
       "    <tr>\n",
       "      <th>0</th>\n",
       "      <td>Real</td>\n",
       "      <td>Another Terrorist Attack in NYC…Why Are we STI...</td>\n",
       "      <td>On Saturday, September 17 at 8:30 pm EST, an e...</td>\n",
       "      <td>http://eaglerising.com</td>\n",
       "    </tr>\n",
       "    <tr>\n",
       "      <th>1</th>\n",
       "      <td>Real</td>\n",
       "      <td>Donald Trump: Drugs a 'Very, Very Big Factor' ...</td>\n",
       "      <td>Less than a day after protests over the police...</td>\n",
       "      <td>http://abcn.ws</td>\n",
       "    </tr>\n",
       "  </tbody>\n",
       "</table>\n",
       "</div>"
      ],
      "text/plain": [
       "  type_of_news                                              title  \\\n",
       "0         Real  Another Terrorist Attack in NYC…Why Are we STI...   \n",
       "1         Real  Donald Trump: Drugs a 'Very, Very Big Factor' ...   \n",
       "\n",
       "                                                text                  source  \n",
       "0  On Saturday, September 17 at 8:30 pm EST, an e...  http://eaglerising.com  \n",
       "1  Less than a day after protests over the police...          http://abcn.ws  "
      ]
     },
     "execution_count": 308,
     "metadata": {},
     "output_type": "execute_result"
    }
   ],
   "source": [
    "data_news.head(2)"
   ]
  },
  {
   "cell_type": "code",
   "execution_count": null,
   "id": "360b0988-9d44-4abf-a993-616944a34726",
   "metadata": {},
   "outputs": [],
   "source": []
  }
 ],
 "metadata": {
  "kernelspec": {
   "display_name": "Python [conda env:base] *",
   "language": "python",
   "name": "conda-base-py"
  },
  "language_info": {
   "codemirror_mode": {
    "name": "ipython",
    "version": 3
   },
   "file_extension": ".py",
   "mimetype": "text/x-python",
   "name": "python",
   "nbconvert_exporter": "python",
   "pygments_lexer": "ipython3",
   "version": "3.12.7"
  }
 },
 "nbformat": 4,
 "nbformat_minor": 5
}
